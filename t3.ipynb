{
 "cells": [
  {
   "cell_type": "code",
   "execution_count": 5,
   "id": "af25a5fa-081a-423f-b70d-e686d1843dde",
   "metadata": {},
   "outputs": [
    {
     "name": "stderr",
     "output_type": "stream",
     "text": [
      "[nltk_data] Downloading package punkt to\n",
      "[nltk_data]     C:\\Users\\LENOVO\\AppData\\Roaming\\nltk_data...\n",
      "[nltk_data]   Unzipping tokenizers\\punkt.zip.\n",
      "[nltk_data] Downloading package stopwords to\n",
      "[nltk_data]     C:\\Users\\LENOVO\\AppData\\Roaming\\nltk_data...\n",
      "[nltk_data]   Unzipping corpora\\stopwords.zip.\n"
     ]
    },
    {
     "name": "stdout",
     "output_type": "stream",
     "text": [
      "Chatbot: Hello! How can I assist you today? Type 'bye' to end the conversation.\n"
     ]
    },
    {
     "name": "stdin",
     "output_type": "stream",
     "text": [
      "You:  hi\n"
     ]
    },
    {
     "name": "stdout",
     "output_type": "stream",
     "text": [
      "Chatbot: Hi there!\n"
     ]
    },
    {
     "name": "stdin",
     "output_type": "stream",
     "text": [
      "You:  how are you\n"
     ]
    },
    {
     "name": "stdout",
     "output_type": "stream",
     "text": [
      "Chatbot: Can you rephrase that?\n"
     ]
    },
    {
     "name": "stdin",
     "output_type": "stream",
     "text": [
      "You:  bye\n"
     ]
    },
    {
     "name": "stdout",
     "output_type": "stream",
     "text": [
      "Chatbot: Goodbye! Have a great day!\n"
     ]
    }
   ],
   "source": [
    "import random\n",
    "import nltk\n",
    "from nltk.tokenize import word_tokenize\n",
    "from nltk.corpus import stopwords\n",
    "\n",
    "# Download necessary NLTK data files\n",
    "nltk.download('punkt')\n",
    "nltk.download('stopwords')\n",
    "\n",
    "class SimpleChatbot:\n",
    "    def __init__(self):\n",
    "        self.stop_words = set(stopwords.words('english'))\n",
    "        self.greetings = [\"hello\", \"hi\", \"hey\", \"greetings\", \"what's up\"]\n",
    "        self.farewells = [\"bye\", \"goodbye\", \"see you\", \"take care\"]\n",
    "        self.default_responses = [\n",
    "            \"I'm sorry, I don't understand.\",\n",
    "            \"Can you rephrase that?\",\n",
    "            \"I'm not sure about that.\"\n",
    "        ]\n",
    "        self.topics = {\n",
    "            \"name\": [\"I'm a chatbot created to chat with you.\", \"My name is Chatbot.\"],\n",
    "            \"weather\": [\"The weather is great today!\", \"I don't have real-time weather updates, but I hope it's sunny!\"],\n",
    "            \"age\": [\"I am timeless!\", \"I was created recently, but I don't age like humans do.\"],\n",
    "            \"creator\": [\"I was created by a developer just like you!\", \"I am a product of many developers!\"],\n",
    "        }\n",
    "\n",
    "    def preprocess_input(self, user_input):\n",
    "        # Tokenize and remove stopwords\n",
    "        tokens = word_tokenize(user_input.lower())\n",
    "        filtered_tokens = [word for word in tokens if word.isalpha() and word not in self.stop_words]\n",
    "        return filtered_tokens\n",
    "\n",
    "    def get_response(self, user_input):\n",
    "        tokens = self.preprocess_input(user_input)\n",
    "        \n",
    "        if any(greet in tokens for greet in self.greetings):\n",
    "            return random.choice([\"Hello!\", \"Hi there!\", \"Greetings!\"])\n",
    "        \n",
    "        if any(farewell in tokens for farewell in self.farewells):\n",
    "            return random.choice([\"Goodbye!\", \"Take care!\", \"See you later!\"])\n",
    "        \n",
    "        for topic, responses in self.topics.items():\n",
    "            if topic in tokens:\n",
    "                return random.choice(responses)\n",
    "\n",
    "        return random.choice(self.default_responses)\n",
    "\n",
    "    def chat(self):\n",
    "        print(\"Chatbot: Hello! How can I assist you today? Type 'bye' to end the conversation.\")\n",
    "        while True:\n",
    "            user_input = input(\"You: \").lower()\n",
    "            if \"bye\" in user_input:\n",
    "                print(\"Chatbot: Goodbye! Have a great day!\")\n",
    "                break\n",
    "            response = self.get_response(user_input)\n",
    "            print(f\"Chatbot: {response}\")\n",
    "\n",
    "# Run the chatbot\n",
    "if __name__ == \"__main__\":\n",
    "    chatbot = SimpleChatbot()\n",
    "    chatbot.chat()\n"
   ]
  },
  {
   "cell_type": "code",
   "execution_count": null,
   "id": "5abf73a3-d003-4260-89e7-294db5b54999",
   "metadata": {},
   "outputs": [],
   "source": []
  }
 ],
 "metadata": {
  "kernelspec": {
   "display_name": "Python 3 (ipykernel)",
   "language": "python",
   "name": "python3"
  },
  "language_info": {
   "codemirror_mode": {
    "name": "ipython",
    "version": 3
   },
   "file_extension": ".py",
   "mimetype": "text/x-python",
   "name": "python",
   "nbconvert_exporter": "python",
   "pygments_lexer": "ipython3",
   "version": "3.12.4"
  }
 },
 "nbformat": 4,
 "nbformat_minor": 5
}
